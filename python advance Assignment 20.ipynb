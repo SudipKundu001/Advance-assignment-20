{
 "cells": [
  {
   "cell_type": "markdown",
   "id": "b9e2f626",
   "metadata": {},
   "source": [
    "## python advance Assignment 20"
   ]
  },
  {
   "cell_type": "markdown",
   "id": "70998b76",
   "metadata": {},
   "source": [
    "**1. Compare and contrast the float and Decimal classes' benefits and drawbacks.**\n",
    "\n",
    "Ans:-Floating point data type represent number values with fractional parts. Decimal accurately represent any number within \n",
    "\n",
    "the precision of the decimal format, whereas Float cannot accurately represent all numbers.\n",
    "\n",
    "Use floats when convenience and speed matter. A float gives you an approximation of the number you declare. For example, if I \n",
    "\n",
    "print 0.1 with 18 decimals places, I don’t actually get 0.1 but instead an approximation.\n",
    "\n",
    "Use decimals when precision matters, such as with financial calculations. Decimals can suffer from their own precision issues, \n",
    "\n",
    "but generally, decimals are more precise than floats."
   ]
  },
  {
   "cell_type": "markdown",
   "id": "df929849",
   "metadata": {},
   "source": [
    "**2. Decimal('1.200') and Decimal('1.2') are two objects to consider. In what sense are these the same \n",
    "object? Are these just two ways of representing the exact same value, or do they correspond to \n",
    "different internal states?**\n",
    "\n",
    "\n",
    "Ans:-Both values are same but internal representation at storage Is different. Precision differs, Decimal('1.200') gives \n",
    "\n",
    "internally 1.200 and Decimal('1.2') gives 1.2."
   ]
  },
  {
   "cell_type": "markdown",
   "id": "a3c116eb",
   "metadata": {},
   "source": [
    "**3. What happens if the equality of Decimal('1.200') and Decimal('1.2') is checked?**\n",
    "\n",
    "Ans:-Both the values are checked to be equal but they only differ in their precision."
   ]
  },
  {
   "cell_type": "markdown",
   "id": "cf015701",
   "metadata": {},
   "source": [
    "**4. Why is it preferable to start a Decimal object with a string rather than a floating-point value?**\n",
    "\n",
    "Ans:-The main reason to transfer numeric values as strings is to eliminate any loss of precision or ambiguity in transfer.\n",
    "\n",
    "Floating-point value is converted to Decimal format. Decimal can store float value with absolute precision. But when float \n",
    "\n",
    "value is given as Decimal object,it first has to be converted from floating point value which might already have rounding \n",
    "\n",
    "error."
   ]
  },
  {
   "cell_type": "markdown",
   "id": "6bc8f669",
   "metadata": {},
   "source": [
    "**5. In an arithmetic phrase, how simple is it to combine Decimal objects with integers?**\n",
    "\n",
    "Ans:- We can do it by using of Decimal()."
   ]
  },
  {
   "cell_type": "markdown",
   "id": "db184ba0",
   "metadata": {},
   "source": [
    "**6. Can Decimal objects and floating-point values be combined easily?**\n",
    "\n",
    "Ans:-Decimal objects cannot generally be combined with floats or instances of fractions.Fraction in arithmetic operations: an \n",
    "\n",
    "attempt to add a Decimal to a float, for example, will raise a TypeError. However, it is possible to use Python’s comparison \n",
    "\n",
    "operators to compare a Decimal instance x with another number y. This avoids confusing results when doing equality comparisons \n",
    "\n",
    "between numbers of different types.\n",
    "\n",
    "To combine, the floating point has to be first converted to a Decimal."
   ]
  },
  {
   "cell_type": "markdown",
   "id": "9e15005e",
   "metadata": {},
   "source": [
    "**7. Using the Fraction class but not the Decimal class, give an example of a quantity that can be\n",
    "expressed with absolute precision.**\n",
    "\n",
    "Ans:-An example is Value of 0.8 will be represented as 8/10.\n"
   ]
  },
  {
   "cell_type": "markdown",
   "id": "8cb519a9",
   "metadata": {},
   "source": [
    "**8. Describe a quantity that can be accurately expressed by the Decimal or Fraction classes but not by \n",
    "a floating-point value?**\n",
    "\n",
    "Ans:- 0.2 is a simpler example as it's 1/5 but cannot be represented as floating point value"
   ]
  },
  {
   "cell_type": "markdown",
   "id": "eede8838",
   "metadata": {},
   "source": [
    "**Q9.Consider the following two fraction objects: Fraction(1, 2) and Fraction(1, 2). (5, 10). Is the internal\n",
    "state of these two objects the same? Why do you think that is?**\n",
    "\n",
    "Ans:-Both will get reduced to 1/2"
   ]
  },
  {
   "cell_type": "markdown",
   "id": "fc999718",
   "metadata": {},
   "source": [
    "**Q10. How do the Fraction class and the integer type (int) relate to each other? Containment or \n",
    "inheritance?**\n",
    "\n",
    "Ans:-Fraction class and integer type(int) are related in form of a container.It contains two ints, one the numerator and the other the denominator."
   ]
  },
  {
   "cell_type": "code",
   "execution_count": null,
   "id": "6e0594e9",
   "metadata": {},
   "outputs": [],
   "source": []
  }
 ],
 "metadata": {
  "kernelspec": {
   "display_name": "Python 3 (ipykernel)",
   "language": "python",
   "name": "python3"
  },
  "language_info": {
   "codemirror_mode": {
    "name": "ipython",
    "version": 3
   },
   "file_extension": ".py",
   "mimetype": "text/x-python",
   "name": "python",
   "nbconvert_exporter": "python",
   "pygments_lexer": "ipython3",
   "version": "3.9.7"
  }
 },
 "nbformat": 4,
 "nbformat_minor": 5
}
